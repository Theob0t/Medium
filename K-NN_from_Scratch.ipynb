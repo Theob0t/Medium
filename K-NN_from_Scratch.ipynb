{
 "cells": [
  {
   "cell_type": "markdown",
   "metadata": {},
   "source": [
    "# Implementation of K-Nearest-Neighbors from Scratch"
   ]
  },
  {
   "cell_type": "code",
   "execution_count": 1,
   "metadata": {},
   "outputs": [],
   "source": [
    "import numpy as np\n",
    "import pandas as pd\n",
    "from sklearn.model_selection import train_test_split\n",
    "from collections import Counter\n",
    "from sklearn import datasets\n",
    "\n",
    "data_names = ['sepal_length', 'sepal_width', 'petal_length', 'petal_width', 'label']\n",
    "data = pd.read_csv('iris.data', \n",
    "                   names = data_names)"
   ]
  },
  {
   "cell_type": "code",
   "execution_count": 2,
   "metadata": {},
   "outputs": [
    {
     "name": "stdout",
     "output_type": "stream",
     "text": [
      "['Iris-setosa' 'Iris-versicolor' 'Iris-virginica']\n"
     ]
    }
   ],
   "source": [
    "all_vals = data[['sepal_length', 'sepal_width', 'petal_length', 'petal_width']].values\n",
    "all_labels = data['label'].values\n",
    "unique_labels = np.unique(all_labels)\n",
    "print(unique_labels)\n",
    "#change string labels to numbers\n",
    "new_labels = np.zeros(len(all_labels))\n",
    "for i in range(0,len(unique_labels)):\n",
    "    new_labels[all_labels == unique_labels[i]] = i\n",
    "all_labels = new_labels"
   ]
  },
  {
   "cell_type": "code",
   "execution_count": 32,
   "metadata": {},
   "outputs": [],
   "source": [
    "#Split dataset using scikit learn split function - keep 25 data points as test_set\n",
    "(training_data, test_data, training_labels, test_labels) = train_test_split(all_vals, all_labels, test_size=0.166)"
   ]
  },
  {
   "cell_type": "code",
   "execution_count": 36,
   "metadata": {},
   "outputs": [],
   "source": [
    "def knnclassify(test_data, training_data, training_labels, k=3):\n",
    "    #training_labels = [0, 1, 2] => ['Iris-setosa' 'Iris-versicolor' 'Iris-virginica']\n",
    "    \n",
    "    #contains the predicted label for each test data point\n",
    "    pred_labels=[]\n",
    "    \n",
    "    #for each test_data point\n",
    "    for i in range(len(test_data)):\n",
    "        distances = []\n",
    "            \n",
    "        #compute euclidean distance with all points of the training set\n",
    "        for j in range(len(training_data)):\n",
    "            euclidean_distance = np.linalg.norm(test_data[i]-training_data[j])\n",
    "            #Pair each distance with the training label of the training data point\n",
    "            distances.append([euclidean_distance, training_labels[j]]) \n",
    "                 \n",
    "        #sort pairs by distances to get the K nearest neighbor(s) at the top\n",
    "        distances.sort()\n",
    "        \n",
    "        #select number of k neighbors\n",
    "        k_nearests = distances[0:k]\n",
    "    \n",
    "        #Collect vote/class_label for each nearest neighbor (k=3 there are 3 votes) \n",
    "        votes = [k_nearest[1] for k_nearest in k_nearests]\n",
    "        \n",
    "        #Store the most_common vote for each test data point into class_label_result\n",
    "        class_label_result = Counter(votes).most_common()[0][0]\n",
    "    \n",
    "        #Append predicted label for the test data point into pred_labels\n",
    "        pred_labels.append(class_label_result)\n",
    "    \n",
    "    return pred_labels"
   ]
  },
  {
   "cell_type": "code",
   "execution_count": 42,
   "metadata": {},
   "outputs": [],
   "source": [
    "pred_labels = knnclassify(test_data, training_data, training_labels)"
   ]
  },
  {
   "cell_type": "code",
   "execution_count": 38,
   "metadata": {},
   "outputs": [
    {
     "data": {
      "text/plain": [
       "0.96"
      ]
     },
     "execution_count": 38,
     "metadata": {},
     "output_type": "execute_result"
    }
   ],
   "source": [
    "from sklearn.metrics import accuracy_score\n",
    "accuracy_score(y_true=test_labels, y_pred=pred_labels)"
   ]
  }
 ],
 "metadata": {
  "kernelspec": {
   "display_name": "Python 3",
   "language": "python",
   "name": "python3"
  },
  "language_info": {
   "codemirror_mode": {
    "name": "ipython",
    "version": 3
   },
   "file_extension": ".py",
   "mimetype": "text/x-python",
   "name": "python",
   "nbconvert_exporter": "python",
   "pygments_lexer": "ipython3",
   "version": "3.8.1"
  },
  "toc": {
   "base_numbering": 1,
   "nav_menu": {},
   "number_sections": true,
   "sideBar": true,
   "skip_h1_title": false,
   "title_cell": "Table of Contents",
   "title_sidebar": "Contents",
   "toc_cell": false,
   "toc_position": {},
   "toc_section_display": true,
   "toc_window_display": false
  }
 },
 "nbformat": 4,
 "nbformat_minor": 4
}
