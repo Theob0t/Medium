{
 "cells": [
  {
   "cell_type": "markdown",
   "metadata": {},
   "source": [
    "# Implement K-Means clustering from Scratch by Theo Botella"
   ]
  },
  {
   "cell_type": "code",
   "execution_count": 2,
   "metadata": {},
   "outputs": [],
   "source": [
    "import numpy as np\n",
    "import pandas as pd\n",
    "import matplotlib.pyplot as plt\n",
    "import seaborn as sb\n",
    "import random as rand\n",
    "from sklearn.model_selection import train_test_split\n",
    "\n",
    "\n",
    "data_names = ['sepal_length', 'sepal_width', 'petal_length', 'petal_width', 'label']\n",
    "data = pd.read_csv('iris.data', \n",
    "                   names = data_names)"
   ]
  },
  {
   "cell_type": "code",
   "execution_count": 3,
   "metadata": {},
   "outputs": [],
   "source": [
    "all_vals = data.drop(columns=['label']).values.tolist()"
   ]
  },
  {
   "cell_type": "markdown",
   "metadata": {},
   "source": [
    " ### Place K centroids at random locations"
   ]
  },
  {
   "cell_type": "code",
   "execution_count": 4,
   "metadata": {},
   "outputs": [],
   "source": [
    "def random_centroids(all_vals, K):    \n",
    "    centroids = []\n",
    "    #Place K centroids at random locations\n",
    "    for i in range(K):\n",
    "        centroid = all_vals[rand.randint(0, 149)]\n",
    "        centroids.append(centroid)\n",
    "    return centroids"
   ]
  },
  {
   "cell_type": "markdown",
   "metadata": {},
   "source": [
    "## Assign all data points to the closest center"
   ]
  },
  {
   "cell_type": "code",
   "execution_count": 5,
   "metadata": {},
   "outputs": [],
   "source": [
    "def assign_cluster(all_vals, centroids):\n",
    "    assignments = []\n",
    "\n",
    "    for data_point in all_vals:\n",
    "        dist_point_clust = []\n",
    "\n",
    "        for centroid in centroids:\n",
    "            d_clust = np.linalg.norm(np.array(data_point) - np.array(centroid))\n",
    "            dist_point_clust.append(d_clust)\n",
    "        \n",
    "        assignment = np.argmin(dist_point_clust)\n",
    "        assignments.append(assignment)\n",
    "\n",
    "    return assignments    "
   ]
  },
  {
   "cell_type": "markdown",
   "metadata": {},
   "source": [
    "## Compute the new centroids\n",
    "By computing the mean of all the points assigned to each cluster"
   ]
  },
  {
   "cell_type": "code",
   "execution_count": 191,
   "metadata": {},
   "outputs": [],
   "source": [
    "def new_centroids(all_vals, centroids, assignments, K):\n",
    "    new_centroids = []\n",
    "    for i in range(K):\n",
    "        pt_cluster = []\n",
    "        for x in range(len(all_vals)):\n",
    "                if (assignments[x] == i):\n",
    "                    pt_cluster.append(all_vals[x])\n",
    "        mean_c = np.mean(pt_cluster, axis=0)\n",
    "        new_centroids.append(mean_c)\n",
    "\n",
    "    return new_centroids"
   ]
  },
  {
   "cell_type": "markdown",
   "metadata": {},
   "source": [
    "## Compute SSE"
   ]
  },
  {
   "cell_type": "code",
   "execution_count": 192,
   "metadata": {},
   "outputs": [],
   "source": [
    "def sse(all_vals, assignments, centroids):\n",
    "    errors = []\n",
    "    \n",
    "    for i in range(len(all_vals)):\n",
    "        #get assigned centroid for each point\n",
    "        centroid = centroids[assignments[i]]\n",
    "    \n",
    "        #compute the distance (error) between one point and its closest centroid\n",
    "        error = np.linalg.norm(np.array(all_vals[i]) - np.array(centroid))\n",
    "        \n",
    "        #append squared error to the list of error\n",
    "        errors.append(error**2)\n",
    "        \n",
    "    #and sum up all the errors\n",
    "    sse = sum(errors)\n",
    "    \n",
    "    return sse"
   ]
  },
  {
   "cell_type": "markdown",
   "metadata": {},
   "source": [
    "### Given a set of assignments of points to clusters, compute the new centroids for every cluster, by taking the mean of all the points assigned to each cluster."
   ]
  },
  {
   "cell_type": "code",
   "execution_count": 204,
   "metadata": {},
   "outputs": [],
   "source": [
    "def kmeans_clustering(all_vals,K,max_iter = 100, tol = pow(10,-3) ):\n",
    "    it = -1\n",
    "    all_sse = []\n",
    "    assignments = []\n",
    "    \n",
    "    #Place K centroids at random locations\n",
    "    centroids = random_centroids(all_vals, K)\n",
    "\n",
    "   \n",
    "    #Until algorithm converges\n",
    "    while (len(all_sse)<=1 or (it < max_iter and np.absolute(all_sse[it] - all_sse[it-1])/all_sse[it-1] >= tol)):\n",
    "        it += 1\n",
    "        #Assign all data points to the closest center\n",
    "        assignments = assign_cluster(all_vals, centroids)\n",
    "        \n",
    "        #Compute the new centroids\n",
    "        centroids = new_centroids(all_vals, centroids, assignments, K)\n",
    "        \n",
    "        #Compute SSE\n",
    "        sse_kmeans = sse(all_vals, assignments, centroids)\n",
    "        all_sse.append(sse_kmeans)        \n",
    "        \n",
    "     \n",
    "    return (assignments, centroids, all_sse, it)"
   ]
  },
  {
   "cell_type": "code",
   "execution_count": 205,
   "metadata": {},
   "outputs": [],
   "source": [
    "result = kmeans_clustering(all_vals,K=3)"
   ]
  },
  {
   "cell_type": "markdown",
   "metadata": {},
   "source": [
    "### K-means Visualization"
   ]
  },
  {
   "cell_type": "code",
   "execution_count": 207,
   "metadata": {},
   "outputs": [],
   "source": [
    "centroids_x = [result[1][x][0] for x in range(len(result[1]))] #sepal_length: [0] \n",
    "centroids_y = [result[1][x][2] for x in range(len(result[1]))] #petal_length: [2]"
   ]
  },
  {
   "cell_type": "code",
   "execution_count": 208,
   "metadata": {},
   "outputs": [],
   "source": [
    "x = data['sepal_length']\n",
    "y = data['petal_length']\n",
    "assignments = result[0]"
   ]
  },
  {
   "cell_type": "code",
   "execution_count": 209,
   "metadata": {
    "scrolled": true
   },
   "outputs": [
    {
     "data": {
      "text/plain": [
       "Text(0, 0.5, 'petal_length')"
      ]
     },
     "execution_count": 209,
     "metadata": {},
     "output_type": "execute_result"
    },
    {
     "data": {
      "image/png": "[encoded data removed]",
      "text/plain": [
       "<Figure size 432x288 with 1 Axes>"
      ]
     },
     "metadata": {
      "needs_background": "light"
     },
     "output_type": "display_data"
    }
   ],
   "source": [
    "plt.scatter(x, y, c=assignments)\n",
    "plt.plot(centroids_x,centroids_y, c='white', marker='.', linewidth='0.01', markerfacecolor='red', markersize=22)\n",
    "\n",
    "plt.title(\"K-means Visualization\")\n",
    "plt.xlabel(\"sepal_length\")\n",
    "plt.ylabel(\"petal_length\")"
   ]
  }
 ],
 "metadata": {
  "kernelspec": {
   "display_name": "Python 3",
   "language": "python",
   "name": "python3"
  },
  "language_info": {
   "codemirror_mode": {
    "name": "ipython",
    "version": 3
   },
   "file_extension": ".py",
   "mimetype": "text/x-python",
   "name": "python",
   "nbconvert_exporter": "python",
   "pygments_lexer": "ipython3",
   "version": "3.8.1"
  },
  "toc": {
   "base_numbering": 1,
   "nav_menu": {},
   "number_sections": true,
   "sideBar": true,
   "skip_h1_title": false,
   "title_cell": "Table of Contents",
   "title_sidebar": "Contents",
   "toc_cell": false,
   "toc_position": {},
   "toc_section_display": true,
   "toc_window_display": false
  }
 },
 "nbformat": 4,
 "nbformat_minor": 2
}
